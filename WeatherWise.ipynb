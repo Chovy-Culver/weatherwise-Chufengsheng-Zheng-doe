{
  "nbformat": 4,
  "nbformat_minor": 0,
  "metadata": {
    "colab": {
      "provenance": [],
      "toc_visible": true,
      "authorship_tag": "ABX9TyM4nwps3/yLMFf0UA/QLAIA",
      "include_colab_link": true
    },
    "kernelspec": {
      "name": "python3",
      "display_name": "Python 3"
    },
    "language_info": {
      "name": "python"
    }
  },
  "cells": [
    {
      "cell_type": "markdown",
      "metadata": {
        "id": "view-in-github",
        "colab_type": "text"
      },
      "source": [
        "<a href=\"https://colab.research.google.com/github/Chovy-Culver/weatherwise-Chufengsheng-Zheng-doe/blob/main/WeatherWise.ipynb\" target=\"_parent\"><img src=\"https://colab.research.google.com/assets/colab-badge.svg\" alt=\"Open In Colab\"/></a>"
      ]
    },
    {
      "cell_type": "code",
      "source": [
        "# Create a config.py file with the API key\n",
        "with open(\"config.py\", \"w\") as f:\n",
        "    f.write('API_KEY = \"1da7dea923d784a5dd83bac94cde8d65\"')\n"
      ],
      "metadata": {
        "id": "qfC1CpZvDMjm"
      },
      "execution_count": 299,
      "outputs": []
    },
    {
      "cell_type": "code",
      "source": [
        "from config import API_KEY\n",
        "\n",
        "print(\"Your API Key is:\", API_KEY)"
      ],
      "metadata": {
        "colab": {
          "base_uri": "https://localhost:8080/"
        },
        "collapsed": true,
        "id": "unTvKFLCEtaL",
        "outputId": "a686df95-7be8-4f60-c6de-63da88169b6a"
      },
      "execution_count": 300,
      "outputs": [
        {
          "output_type": "stream",
          "name": "stdout",
          "text": [
            "Your API Key is: 1da7dea923d784a5dd83bac94cde8d65\n"
          ]
        }
      ]
    },
    {
      "cell_type": "code",
      "source": [
        "!mkdir -p weather_data  # create catalog\n",
        "\n",
        "fetch_code = \"\"\"\n",
        "\\\"\"\"fetch.py - Module for retrieving weather data from OpenWeatherMap API.\\\"\"\"\n",
        "\n",
        "import requests\n",
        "from config import API_KEY\n",
        "\n",
        "BASE_URL = \"https://api.openweathermap.org/data/2.5/\"\n",
        "\n",
        "def fetch_current_weather(city):\n",
        "    \\\"\\\"\\\"Fetch current weather data for a given city.\\\"\\\"\\\"\n",
        "    url = f\"{BASE_URL}weather?q={city}&appid={API_KEY}&units=metric\"\n",
        "    response = requests.get(url)\n",
        "    return response.json() if response.status_code == 200 else None\n",
        "\n",
        "def fetch_forecast_weather(city):\n",
        "    \\\"\\\"\\\"Fetch 5-day forecast data (3-hour intervals) for a given city.\\\"\\\"\\\"\n",
        "    url = f\"{BASE_URL}forecast?q={city}&appid={API_KEY}&units=metric\"\n",
        "    response = requests.get(url)\n",
        "    return response.json() if response.status_code == 200 else None\n",
        "\"\"\"\n",
        "\n",
        "with open(\"weather_data/fetch.py\", \"w\") as f:\n",
        "    f.write(fetch_code)\n"
      ],
      "metadata": {
        "id": "WFTpxLUQ-hBy"
      },
      "execution_count": 301,
      "outputs": []
    },
    {
      "cell_type": "code",
      "source": [
        "import sys\n",
        "sys.path.append('/content')\n"
      ],
      "metadata": {
        "id": "t-2o_XRB_MJh"
      },
      "execution_count": 302,
      "outputs": []
    },
    {
      "cell_type": "code",
      "source": [
        "from weather_data.fetch import fetch_current_weather\n",
        "\n",
        "city = \"Perth\"\n",
        "data = fetch_current_weather(city)\n",
        "\n",
        "print(data if data else \"❌ Failed to fetch weather.\")\n"
      ],
      "metadata": {
        "colab": {
          "base_uri": "https://localhost:8080/"
        },
        "id": "oZAxY7g3LssH",
        "outputId": "bd35af6b-432e-461e-8a6a-aafd5d4f1068"
      },
      "execution_count": 303,
      "outputs": [
        {
          "output_type": "stream",
          "name": "stdout",
          "text": [
            "{'coord': {'lon': 115.8333, 'lat': -31.9333}, 'weather': [{'id': 520, 'main': 'Rain', 'description': 'light intensity shower rain', 'icon': '09n'}], 'base': 'stations', 'main': {'temp': 18.15, 'feels_like': 17.93, 'temp_min': 16, 'temp_max': 19.54, 'pressure': 1015, 'humidity': 73, 'sea_level': 1015, 'grnd_level': 1012}, 'visibility': 10000, 'wind': {'speed': 7.15, 'deg': 202, 'gust': 13.86}, 'rain': {'1h': 1.06}, 'clouds': {'all': 75}, 'dt': 1747924622, 'sys': {'type': 2, 'id': 63154, 'country': 'AU', 'sunrise': 1747868560, 'sunset': 1747905856}, 'timezone': 28800, 'id': 2063523, 'name': 'Perth', 'cod': 200}\n"
          ]
        }
      ]
    },
    {
      "cell_type": "code",
      "source": [
        "# create file\n",
        "!mkdir -p weather_data\n",
        "\n",
        "# import visualise.py\n",
        "visualise_code = \"\"\"\n",
        "\\\"\\\"\\\"visualise.py - Module for visualising weather forecast data.\\\"\\\"\\\"\n",
        "\n",
        "import matplotlib.pyplot as plt\n",
        "from datetime import datetime\n",
        "\n",
        "def plot_temperature_trend(forecast_data, city):\n",
        "    times = []\n",
        "    temps = []\n",
        "    for entry in forecast_data['list']:\n",
        "        dt = datetime.strptime(entry['dt_txt'], \"%Y-%m-%d %H:%M:%S\")\n",
        "        temp = entry['main']['temp']\n",
        "        times.append(dt)\n",
        "        temps.append(temp)\n",
        "    plt.figure(figsize=(10, 5))\n",
        "    plt.plot(times, temps, marker='o')\n",
        "    plt.title(f\"Temperature Trend in {city}\")\n",
        "    plt.xlabel(\"Date & Time\")\n",
        "    plt.ylabel(\"Temperature (°C)\")\n",
        "    plt.xticks(rotation=45)\n",
        "    plt.tight_layout()\n",
        "    plt.grid(True)\n",
        "    plt.show()\n",
        "\n",
        "def plot_precipitation_probability(forecast_data, city):\n",
        "    times = []\n",
        "    probs = []\n",
        "    for entry in forecast_data['list']:\n",
        "        dt = datetime.strptime(entry['dt_txt'], \"%Y-%m-%d %H:%M:%S\")\n",
        "        prob = entry.get('pop', 0) * 100\n",
        "        times.append(dt)\n",
        "        probs.append(prob)\n",
        "    plt.figure(figsize=(10, 5))\n",
        "    plt.bar(times, probs)\n",
        "    plt.title(f\"Precipitation Probability in {city}\")\n",
        "    plt.xlabel(\"Date & Time\")\n",
        "    plt.ylabel(\"Probability (%)\")\n",
        "    plt.xticks(rotation=45)\n",
        "    plt.tight_layout()\n",
        "    plt.grid(True)\n",
        "    plt.show()\n",
        "\n",
        "def plot_wind_speed(forecast_data, city):\n",
        "    times = []\n",
        "    speeds = []\n",
        "    for entry in forecast_data['list']:\n",
        "        dt = datetime.strptime(entry['dt_txt'], \"%Y-%m-%d %H:%M:%S\")\n",
        "        speed = entry['wind']['speed']\n",
        "        times.append(dt)\n",
        "        speeds.append(speed)\n",
        "    plt.figure(figsize=(10, 5))\n",
        "    plt.plot(times, speeds, marker='s', linestyle='--')\n",
        "    plt.title(f\"Wind Speed Forecast in {city}\")\n",
        "    plt.xlabel(\"Date & Time\")\n",
        "    plt.ylabel(\"Wind Speed (m/s)\")\n",
        "    plt.xticks(rotation=45)\n",
        "    plt.tight_layout()\n",
        "    plt.grid(True)\n",
        "    plt.show()\n",
        "\"\"\"\n",
        "\n",
        "with open(\"weather_data/visualise.py\", \"w\") as f:\n",
        "    f.write(visualise_code)\n"
      ],
      "metadata": {
        "id": "HzaDG3v1I_DX"
      },
      "execution_count": 304,
      "outputs": []
    },
    {
      "cell_type": "code",
      "source": [
        "import sys\n",
        "sys.path.append('/content')\n"
      ],
      "metadata": {
        "id": "x4Cp10NXToJg"
      },
      "execution_count": 305,
      "outputs": []
    },
    {
      "cell_type": "code",
      "source": [
        "from weather_data.visualise import (\n",
        "    plot_temperature_trend,\n",
        "    plot_precipitation_probability,\n",
        "    plot_wind_speed\n",
        ")\n",
        "print(\"✅ visualise module imported successfully.\")\n"
      ],
      "metadata": {
        "colab": {
          "base_uri": "https://localhost:8080/"
        },
        "id": "Scm9J_-yTuLw",
        "outputId": "057790d8-e092-40d0-c1e5-88effd036ba4"
      },
      "execution_count": 306,
      "outputs": [
        {
          "output_type": "stream",
          "name": "stdout",
          "text": [
            "✅ visualise module imported successfully.\n"
          ]
        }
      ]
    },
    {
      "cell_type": "code",
      "source": [
        "from weather_data.fetch import fetch_forecast_weather\n",
        "from weather_data.visualise import (\n",
        "    plot_temperature_trend,\n",
        "    plot_precipitation_probability,\n",
        "    plot_wind_speed\n",
        ")\n",
        "\n",
        "city = \"Perth\"\n",
        "forecast = fetch_forecast_weather(city)\n",
        "\n",
        "if forecast:\n",
        "    plot_temperature_trend(forecast, city)\n",
        "    plot_precipitation_probability(forecast, city)\n",
        "    plot_wind_speed(forecast, city)\n",
        "else:\n",
        "    print(\"❌ Failed to fetch forecast data.\")\n"
      ],
      "metadata": {
        "colab": {
          "base_uri": "https://localhost:8080/",
          "height": 1000
        },
        "id": "rorF1jKUTxXO",
        "outputId": "70c6d3fb-f29f-43f1-a379-73c3c55d348e"
      },
      "execution_count": 307,
      "outputs": [
        {
          "output_type": "display_data",
          "data": {
            "text/plain": [
              "<Figure size 1000x500 with 1 Axes>"
            ],
            "image/png": "[encoded data removed]"
          },
          "metadata": {}
        },
        {
          "output_type": "display_data",
          "data": {
            "text/plain": [
              "<Figure size 1000x500 with 1 Axes>"
            ],
            "image/png": "[encoded data removed]"
          },
          "metadata": {}
        },
        {
          "output_type": "display_data",
          "data": {
            "text/plain": [
              "<Figure size 1000x500 with 1 Axes>"
            ],
            "image/png": "[encoded data removed]"
          },
          "metadata": {}
        }
      ]
    },
    {
      "cell_type": "code",
      "source": [
        "parser_code = '''\"\"\"\n",
        "parser.py - Smart parser for weather intent and time keyword detection.\n",
        "\"\"\"\n",
        "\n",
        "from difflib import get_close_matches\n",
        "import re\n",
        "\n",
        "INTENT_KEYWORDS = {\n",
        "    \"temperature\": [\"cold\", \"hot\", \"temperature\", \"jacket\", \"coat\", \"sweater\", \"warm\", \"cool\", \"wear\"],\n",
        "    \"rain\": [\"rain\", \"umbrella\", \"wet\", \"drizzle\"],\n",
        "    \"wind\": [\"wind\", \"windy\", \"breeze\", \"gust\"]\n",
        "}\n",
        "\n",
        "TIME_KEYWORDS = {\n",
        "    \"today\": [\"today\", \"now\", \"currently\"],\n",
        "    \"tomorrow\": [\"tomorrow\", \"next day\"],\n",
        "    \"day after tomorrow\": [\"day after tomorrow\"]\n",
        "}\n",
        "\n",
        "KEYWORD_TO_INTENT = {k: intent for intent, lst in INTENT_KEYWORDS.items() for k in lst}\n",
        "KEYWORD_TO_TIME = {k: time for time, lst in TIME_KEYWORDS.items() for k in lst}\n",
        "\n",
        "def infer_weather_intent(user_input):\n",
        "    words = re.findall(r'\\\\w+', user_input.lower())\n",
        "    for word in words:\n",
        "        if word in KEYWORD_TO_INTENT:\n",
        "            return KEYWORD_TO_INTENT[word]\n",
        "        match = get_close_matches(word, KEYWORD_TO_INTENT.keys(), n=1, cutoff=0.8)\n",
        "        if match:\n",
        "            return KEYWORD_TO_INTENT[match[0]]\n",
        "    return None\n",
        "\n",
        "def infer_time_keyword(user_input):\n",
        "    words = re.findall(r'\\\\w+', user_input.lower())\n",
        "    for word in words:\n",
        "        if word in KEYWORD_TO_TIME:\n",
        "            return KEYWORD_TO_TIME[word]\n",
        "        match = get_close_matches(word, KEYWORD_TO_TIME.keys(), n=1, cutoff=0.8)\n",
        "        if match:\n",
        "            return KEYWORD_TO_TIME[match[0]]\n",
        "    return None\n",
        "'''\n",
        "\n",
        "with open(\"/content/nlp_interface/parser.py\", \"w\", encoding=\"utf-8\") as f:\n",
        "    f.write(parser_code)\n",
        "\n",
        "print(\"✅ parser.py has been fully rewritten.\")\n"
      ],
      "metadata": {
        "id": "HgTCcK0c7Bdo",
        "colab": {
          "base_uri": "https://localhost:8080/"
        },
        "outputId": "93b4519c-f4ff-48cd-ff6c-2103378faa12"
      },
      "execution_count": 308,
      "outputs": [
        {
          "output_type": "stream",
          "name": "stdout",
          "text": [
            "✅ parser.py has been fully rewritten.\n"
          ]
        }
      ]
    },
    {
      "cell_type": "code",
      "source": [
        "with open(\"/content/nlp_interface/parser.py\", \"w\") as f:\n",
        "    f.write(parser_code)\n"
      ],
      "metadata": {
        "id": "gBJ3-ADtUv5I"
      },
      "execution_count": 309,
      "outputs": []
    },
    {
      "cell_type": "code",
      "source": [
        "%cat /content/nlp_interface/parser.py\n"
      ],
      "metadata": {
        "colab": {
          "base_uri": "https://localhost:8080/"
        },
        "id": "pLq8i5ClXAic",
        "outputId": "97d33093-0d8b-4b31-fdb5-9a3ac6b0a53a"
      },
      "execution_count": 310,
      "outputs": [
        {
          "output_type": "stream",
          "name": "stdout",
          "text": [
            "\"\"\"\n",
            "parser.py - Smart parser for weather intent and time keyword detection.\n",
            "\"\"\"\n",
            "\n",
            "from difflib import get_close_matches\n",
            "import re\n",
            "\n",
            "INTENT_KEYWORDS = {\n",
            "    \"temperature\": [\"cold\", \"hot\", \"temperature\", \"jacket\", \"coat\", \"sweater\", \"warm\", \"cool\", \"wear\"],\n",
            "    \"rain\": [\"rain\", \"umbrella\", \"wet\", \"drizzle\"],\n",
            "    \"wind\": [\"wind\", \"windy\", \"breeze\", \"gust\"]\n",
            "}\n",
            "\n",
            "TIME_KEYWORDS = {\n",
            "    \"today\": [\"today\", \"now\", \"currently\"],\n",
            "    \"tomorrow\": [\"tomorrow\", \"next day\"],\n",
            "    \"day after tomorrow\": [\"day after tomorrow\"]\n",
            "}\n",
            "\n",
            "KEYWORD_TO_INTENT = {k: intent for intent, lst in INTENT_KEYWORDS.items() for k in lst}\n",
            "KEYWORD_TO_TIME = {k: time for time, lst in TIME_KEYWORDS.items() for k in lst}\n",
            "\n",
            "def infer_weather_intent(user_input):\n",
            "    words = re.findall(r'\\w+', user_input.lower())\n",
            "    for word in words:\n",
            "        if word in KEYWORD_TO_INTENT:\n",
            "            return KEYWORD_TO_INTENT[word]\n",
            "        match = get_close_matches(word, KEYWORD_TO_INTENT.keys(), n=1, cutoff=0.8)\n",
            "        if match:\n",
            "            return KEYWORD_TO_INTENT[match[0]]\n",
            "    return None\n",
            "\n",
            "def infer_time_keyword(user_input):\n",
            "    words = re.findall(r'\\w+', user_input.lower())\n",
            "    for word in words:\n",
            "        if word in KEYWORD_TO_TIME:\n",
            "            return KEYWORD_TO_TIME[word]\n",
            "        match = get_close_matches(word, KEYWORD_TO_TIME.keys(), n=1, cutoff=0.8)\n",
            "        if match:\n",
            "            return KEYWORD_TO_TIME[match[0]]\n",
            "    return None\n"
          ]
        }
      ]
    },
    {
      "cell_type": "code",
      "source": [
        "pip install pyinputplus\n"
      ],
      "metadata": {
        "colab": {
          "base_uri": "https://localhost:8080/"
        },
        "id": "nig6--LoOQ5l",
        "outputId": "10d37909-99e2-438e-d4e6-945191651090"
      },
      "execution_count": 311,
      "outputs": [
        {
          "output_type": "stream",
          "name": "stdout",
          "text": [
            "Requirement already satisfied: pyinputplus in /usr/local/lib/python3.11/dist-packages (0.2.12)\n",
            "Requirement already satisfied: pysimplevalidate>=0.2.7 in /usr/local/lib/python3.11/dist-packages (from pyinputplus) (0.2.12)\n",
            "Requirement already satisfied: stdiomask>=0.0.3 in /usr/local/lib/python3.11/dist-packages (from pyinputplus) (0.0.6)\n"
          ]
        }
      ]
    },
    {
      "cell_type": "code",
      "source": [
        "import os\n",
        "\n",
        "# Make sure the ui/ directory exists\n",
        "os.makedirs(\"/content/ui\", exist_ok=True)\n",
        "\n",
        "# Now write the clean English version of menu.py\n",
        "menu_code = '''\"\"\"\n",
        "menu.py - Interactive weather application menu using pyinputplus.\n",
        "\"\"\"\n",
        "\n",
        "import pyinputplus as pyip\n",
        "from weather_data.fetch import fetch_current_weather, fetch_forecast_weather\n",
        "from weather_data.visualise import (\n",
        "    plot_temperature_trend,\n",
        "    plot_precipitation_probability,\n",
        "    plot_wind_speed\n",
        ")\n",
        "from nlp_interface.parser import infer_weather_intent\n",
        "from nlp_interface.responder import generate_response\n",
        "from ui.display import show_weather_info, show_error\n",
        "\n",
        "def handle_check_weather():\n",
        "    city = pyip.inputStr(\"Enter a city name: \")\n",
        "    data = fetch_current_weather(city)\n",
        "    if data:\n",
        "        show_weather_info(data)\n",
        "    else:\n",
        "        show_error(\"Could not retrieve current weather data.\")\n",
        "\n",
        "def handle_show_charts():\n",
        "    city = pyip.inputStr(\"Enter a city name: \")\n",
        "    forecast = fetch_forecast_weather(city)\n",
        "    if not forecast:\n",
        "        show_error(\"Could not retrieve forecast data.\")\n",
        "        return\n",
        "\n",
        "    chart_actions = {\n",
        "        \"Temperature Trend\": plot_temperature_trend,\n",
        "        \"Precipitation Probability\": plot_precipitation_probability,\n",
        "        \"Wind Speed\": plot_wind_speed\n",
        "    }\n",
        "\n",
        "    chart_choice = pyip.inputMenu(list(chart_actions.keys()), numbered=True)\n",
        "    chart_actions[chart_choice](forecast, city)\n",
        "\n",
        "def handle_ask_question():\n",
        "    city = pyip.inputStr(\"Enter a city name: \")\n",
        "    question = pyip.inputStr(\"Ask your weather-related question (e.g., 'Will it rain tomorrow?'): \")\n",
        "    intent = infer_weather_intent(question)\n",
        "    weather = fetch_current_weather(city)\n",
        "    response = generate_response(intent, weather)\n",
        "    print(\"\\\\n🤖\", response)\n",
        "\n",
        "def handle_exit():\n",
        "    print(\"Thank you for using WeatherWise. Goodbye!\")\n",
        "    exit()\n",
        "\n",
        "MENU_ACTIONS = {\n",
        "    \"Check Current Weather\": handle_check_weather,\n",
        "    \"Show Forecast Charts\": handle_show_charts,\n",
        "    \"Ask a Weather Question\": handle_ask_question,\n",
        "    \"Exit\": handle_exit\n",
        "}\n",
        "\n",
        "def weather_menu():\n",
        "    while True:\n",
        "        print(\"\\\\n=== WeatherWise Main Menu ===\")\n",
        "        choice = pyip.inputMenu(list(MENU_ACTIONS.keys()), numbered=True)\n",
        "        action = MENU_ACTIONS.get(choice)\n",
        "        if action:\n",
        "            action()\n",
        "'''\n",
        "\n",
        "with open(\"/content/ui/menu.py\", \"w\") as f:\n",
        "    f.write(menu_code)\n",
        "\n",
        "print(\"✅ Rewritten ui/menu.py successfully saved to /content/ui/\")\n"
      ],
      "metadata": {
        "id": "HqMXBoyoXzhi",
        "colab": {
          "base_uri": "https://localhost:8080/"
        },
        "outputId": "5d0280d8-57b7-4d3b-fb8d-f8041086d2eb"
      },
      "execution_count": 312,
      "outputs": [
        {
          "output_type": "stream",
          "name": "stdout",
          "text": [
            "✅ Rewritten ui/menu.py successfully saved to /content/ui/\n"
          ]
        }
      ]
    },
    {
      "cell_type": "code",
      "source": [
        "os.makedirs(\"/content/ui\", exist_ok=True)\n",
        "\n",
        "display_code = '''\"\"\"\n",
        "display.py - Simple display helpers for WeatherWise.\n",
        "\"\"\"\n",
        "\n",
        "def show_weather_info(data):\n",
        "    print(f\"🌤️ Weather in {data['name']}: {data['main']['temp']}°C, {data['weather'][0]['description']}\")\n",
        "\n",
        "def show_error(message):\n",
        "    print(f\"❌ {message}\")\n",
        "'''\n",
        "\n",
        "with open(\"/content/ui/display.py\", \"w\") as f:\n",
        "    f.write(display_code)\n"
      ],
      "metadata": {
        "id": "ZdxnU4xGcL8l"
      },
      "execution_count": 313,
      "outputs": []
    },
    {
      "cell_type": "code",
      "source": [
        "import sys\n",
        "sys.path.append('/content')\n"
      ],
      "metadata": {
        "id": "r9xEDzIy7Obo"
      },
      "execution_count": 314,
      "outputs": []
    },
    {
      "cell_type": "code",
      "source": [
        "import os\n",
        "os.makedirs(\"/content/ui\", exist_ok=True)\n",
        "\n",
        "smart_code = \"\"\"<PASTE FULL FUNCTION CODE ABOVE HERE>\"\"\"  # Replace with full code\n",
        "\n",
        "with open(\"/content/ui/smart_conversation.py\", \"w\") as f:\n",
        "    f.write(smart_code)\n",
        "\n",
        "print(\"✅ smart_conversation.py has been saved.\")\n"
      ],
      "metadata": {
        "id": "2CtB5wvj_w6P",
        "colab": {
          "base_uri": "https://localhost:8080/"
        },
        "outputId": "a708e014-41c6-48df-8c84-0d55c5bb3e1d"
      },
      "execution_count": 315,
      "outputs": [
        {
          "output_type": "stream",
          "name": "stdout",
          "text": [
            "✅ smart_conversation.py has been saved.\n"
          ]
        }
      ]
    },
    {
      "cell_type": "code",
      "source": [
        "parser_fixed_code = \"\"\"<PASTE FULL UPDATED CODE ABOVE HERE>\"\"\"\n",
        "\n",
        "with open(\"/content/nlp_interface/parser.py\", \"w\") as f:\n",
        "    f.write(parser_fixed_code)\n",
        "\n",
        "print(\"✅ Fixed parser.py saved with infer_time_keyword.\")\n"
      ],
      "metadata": {
        "id": "QWnjPYXrAO0c",
        "colab": {
          "base_uri": "https://localhost:8080/"
        },
        "outputId": "79484411-f3ec-4207-8b60-b0c158dec434"
      },
      "execution_count": 316,
      "outputs": [
        {
          "output_type": "stream",
          "name": "stdout",
          "text": [
            "✅ Fixed parser.py saved with infer_time_keyword.\n"
          ]
        }
      ]
    },
    {
      "cell_type": "code",
      "source": [
        "import os\n",
        "parser_path = \"/content/nlp_interface/parser.py\"\n",
        "if os.path.exists(parser_path):\n",
        "    os.remove(parser_path)\n",
        "    print(\"🧹 parser.py delete\")\n"
      ],
      "metadata": {
        "colab": {
          "base_uri": "https://localhost:8080/"
        },
        "id": "zZLdyrvaX-ZB",
        "outputId": "b34fa303-036c-422a-88a3-e2a75f8e9cf1"
      },
      "execution_count": 317,
      "outputs": [
        {
          "output_type": "stream",
          "name": "stdout",
          "text": [
            "🧹 parser.py delete\n"
          ]
        }
      ]
    },
    {
      "cell_type": "code",
      "source": [
        "def normalize_time_keyword(time_keyword):\n",
        "    if time_keyword == \"tomorrow\":\n",
        "        return 1\n",
        "    elif time_keyword == \"day after tomorrow\":\n",
        "        return 2\n",
        "    else:\n",
        "        return 0  # today by default\n"
      ],
      "metadata": {
        "id": "EE5dGgVFaPIM"
      },
      "execution_count": 318,
      "outputs": []
    },
    {
      "cell_type": "code",
      "source": [
        "parser_code = '''\"\"\"\n",
        "parser.py - Smart parser for weather intent and time keyword detection.\n",
        "\"\"\"\n",
        "\n",
        "from difflib import get_close_matches\n",
        "import re\n",
        "\n",
        "INTENT_KEYWORDS = {\n",
        "    \"temperature\": [\"cold\", \"hot\", \"temperature\", \"jacket\", \"coat\", \"sweater\", \"warm\", \"cool\", \"wear\"],\n",
        "    \"rain\": [\"rain\", \"umbrella\", \"wet\", \"drizzle\"],\n",
        "    \"wind\": [\"wind\", \"windy\", \"breeze\", \"gust\"]\n",
        "}\n",
        "\n",
        "TIME_KEYWORDS = {\n",
        "    \"today\": [\"today\", \"now\", \"currently\"],\n",
        "    \"tomorrow\": [\"tomorrow\", \"next day\"],\n",
        "    \"day after tomorrow\": [\"day after tomorrow\"]\n",
        "}\n",
        "\n",
        "KEYWORD_TO_INTENT = {k: intent for intent, lst in INTENT_KEYWORDS.items() for k in lst}\n",
        "KEYWORD_TO_TIME = {k: time for time, lst in TIME_KEYWORDS.items() for k in lst}\n",
        "\n",
        "def infer_weather_intent(user_input):\n",
        "    words = re.findall(r'\\\\w+', user_input.lower())\n",
        "    for word in words:\n",
        "        if word in KEYWORD_TO_INTENT:\n",
        "            return KEYWORD_TO_INTENT[word]\n",
        "        match = get_close_matches(word, KEYWORD_TO_INTENT.keys(), n=1, cutoff=0.8)\n",
        "        if match:\n",
        "            return KEYWORD_TO_INTENT[match[0]]\n",
        "    return None\n",
        "\n",
        "def infer_time_keyword(user_input):\n",
        "    words = re.findall(r'\\\\w+', user_input.lower())\n",
        "    for word in words:\n",
        "        if word in KEYWORD_TO_TIME:\n",
        "            return KEYWORD_TO_TIME[word]\n",
        "        match = get_close_matches(word, KEYWORD_TO_TIME.keys(), n=1, cutoff=0.8)\n",
        "        if match:\n",
        "            return KEYWORD_TO_TIME[match[0]]\n",
        "    return None\n",
        "'''\n",
        "\n",
        "with open(\"/content/nlp_interface/parser.py\", \"w\", encoding=\"utf-8\") as f:\n",
        "    f.write(parser_code)\n",
        "\n",
        "print(\"✅ parser.py \")\n"
      ],
      "metadata": {
        "colab": {
          "base_uri": "https://localhost:8080/"
        },
        "id": "Ye1E9XNjYB7f",
        "outputId": "7ba037f4-f462-4567-c1dc-cf0612108eb3"
      },
      "execution_count": 319,
      "outputs": [
        {
          "output_type": "stream",
          "name": "stdout",
          "text": [
            "✅ parser.py \n"
          ]
        }
      ]
    },
    {
      "cell_type": "code",
      "source": [
        "from datetime import datetime, timedelta\n",
        "\n",
        "def get_weather_for_time(forecast_data, target_day_offset):\n",
        "    \"\"\"\n",
        "    Extracts the forecast for the requested day offset (0=today, 1=tomorrow, etc.)\n",
        "    from forecast_data (3-hour interval forecasts).\n",
        "    \"\"\"\n",
        "    target_date = (datetime.now() + timedelta(days=target_day_offset)).date()\n",
        "    for entry in forecast_data.get('list', []):\n",
        "        entry_time = datetime.strptime(entry['dt_txt'], \"%Y-%m-%d %H:%M:%S\")\n",
        "        if entry_time.date() == target_date and entry_time.hour == 12:  # pick midday forecast\n",
        "            return entry\n",
        "    return None  # fallback if not found\n",
        "\n",
        "def generate_response(intent, weather_data, time_offset=0):\n",
        "    if not weather_data:\n",
        "        return \"Sorry, I couldn't get the weather data right now.\"\n",
        "\n",
        "    if 'list' in weather_data:  # forecast data\n",
        "        data = get_weather_for_time(weather_data, time_offset)\n",
        "        if not data:\n",
        "            return \"I couldn't find forecast data for that day.\"\n",
        "    else:\n",
        "        data = weather_data  # current weather\n",
        "\n",
        "    handler = INTENT_HANDLERS.get(intent)\n",
        "    if handler:\n",
        "        return handler(data)\n",
        "    else:\n",
        "        return \"I'm not sure what weather info you need. Please ask about temperature, rain, or wind.\"\n"
      ],
      "metadata": {
        "id": "C2mW3oW2aIOY"
      },
      "execution_count": 320,
      "outputs": []
    },
    {
      "cell_type": "code",
      "source": [
        "import os\n",
        "\n",
        "os.makedirs(\"/content/ui\", exist_ok=True)\n",
        "\n",
        "menu_code = '''\"\"\"\n",
        "menu.py - Interactive weather application menu using pyinputplus.\n",
        "\"\"\"\n",
        "\n",
        "import pyinputplus as pyip\n",
        "from weather_data.fetch import fetch_current_weather, fetch_forecast_weather\n",
        "from weather_data.visualise import (\n",
        "    plot_temperature_trend,\n",
        "    plot_precipitation_probability,\n",
        "    plot_wind_speed\n",
        ")\n",
        "from nlp_interface.parser import infer_weather_intent\n",
        "from nlp_interface.responder import generate_response\n",
        "from ui.display import show_weather_info, show_error\n",
        "\n",
        "def handle_check_weather():\n",
        "    city = pyip.inputStr(\"Enter a city name: \")\n",
        "    data = fetch_current_weather(city)\n",
        "    if data:\n",
        "        show_weather_info(data)\n",
        "    else:\n",
        "        show_error(\"Could not retrieve current weather data.\")\n",
        "\n",
        "def handle_show_charts():\n",
        "    city = pyip.inputStr(\"Enter a city name: \")\n",
        "    forecast = fetch_forecast_weather(city)\n",
        "    if not forecast:\n",
        "        show_error(\"Could not retrieve forecast data.\")\n",
        "        return\n",
        "\n",
        "    chart_actions = {\n",
        "        \"Temperature Trend\": plot_temperature_trend,\n",
        "        \"Precipitation Probability\": plot_precipitation_probability,\n",
        "        \"Wind Speed\": plot_wind_speed\n",
        "    }\n",
        "\n",
        "    chart_choice = pyip.inputMenu(list(chart_actions.keys()), numbered=True)\n",
        "    chart_actions[chart_choice](forecast, city)\n",
        "\n",
        "def handle_ask_question():\n",
        "    city = pyip.inputStr(\"Enter a city name: \")\n",
        "    question = pyip.inputStr(\"Ask your weather-related question (e.g., 'Will it rain tomorrow?'): \")\n",
        "    intent = infer_weather_intent(question)\n",
        "    weather = fetch_current_weather(city)\n",
        "    response = generate_response(intent, weather)\n",
        "    print(\"\\\\n🤖\", response)\n",
        "\n",
        "def handle_exit():\n",
        "    print(\"Thank you for using WeatherWise. Goodbye!\")\n",
        "    exit()\n",
        "\n",
        "MENU_ACTIONS = {\n",
        "    \"Check Current Weather\": handle_check_weather,\n",
        "    \"Show Forecast Charts\": handle_show_charts,\n",
        "    \"Ask a Weather Question\": handle_ask_question,\n",
        "    \"Exit\": handle_exit\n",
        "}\n",
        "\n",
        "def weather_menu():\n",
        "    while True:\n",
        "        print(\"\\\\n=== WeatherWise Main Menu ===\")\n",
        "        choice = pyip.inputMenu(list(MENU_ACTIONS.keys()), numbered=True)\n",
        "        action = MENU_ACTIONS.get(choice)\n",
        "        if action:\n",
        "            action()\n",
        "'''\n",
        "\n",
        "with open(\"/content/ui/menu.py\", \"w\") as f:\n",
        "    f.write(menu_code)\n",
        "\n",
        "print(\"✅ menu.py successfully rewritten to /content/ui/\")\n"
      ],
      "metadata": {
        "id": "xny-MsQf7m9N",
        "colab": {
          "base_uri": "https://localhost:8080/"
        },
        "outputId": "df02bc8d-5438-418d-94dd-add4206cad78"
      },
      "execution_count": 321,
      "outputs": [
        {
          "output_type": "stream",
          "name": "stdout",
          "text": [
            "✅ menu.py successfully rewritten to /content/ui/\n"
          ]
        }
      ]
    },
    {
      "cell_type": "code",
      "source": [
        "from ui.menu import weather_menu\n",
        "weather_menu()\n"
      ],
      "metadata": {
        "id": "SfRpSnwB7sPA",
        "colab": {
          "base_uri": "https://localhost:8080/"
        },
        "outputId": "2212a416-e196-4046-e11f-422e3ee05493"
      },
      "execution_count": null,
      "outputs": [
        {
          "output_type": "stream",
          "name": "stdout",
          "text": [
            "\n",
            "=== WeatherWise Main Menu ===\n",
            "Please select one of the following:\n",
            "1. Check Current Weather\n",
            "2. Show Forecast Charts\n",
            "3. Ask a Weather Question\n",
            "4. Exit\n"
          ]
        }
      ]
    }
  ]
}