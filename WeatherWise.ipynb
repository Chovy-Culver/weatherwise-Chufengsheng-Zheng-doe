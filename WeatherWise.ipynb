{
  "nbformat": 4,
  "nbformat_minor": 0,
  "metadata": {
    "colab": {
      "provenance": [],
      "authorship_tag": "ABX9TyOT5ay9uVAZdHNAhjF/s7iv",
      "include_colab_link": true
    },
    "kernelspec": {
      "name": "python3",
      "display_name": "Python 3"
    },
    "language_info": {
      "name": "python"
    }
  },
  "cells": [
    {
      "cell_type": "markdown",
      "metadata": {
        "id": "view-in-github",
        "colab_type": "text"
      },
      "source": [
        "<a href=\"https://colab.research.google.com/github/Chovy-Culver/weatherwise-Chufengsheng-Zheng-doe/blob/main/WeatherWise.ipynb\" target=\"_parent\"><img src=\"https://colab.research.google.com/assets/colab-badge.svg\" alt=\"Open In Colab\"/></a>"
      ]
    },
    {
      "cell_type": "code",
      "execution_count": 4,
      "metadata": {
        "colab": {
          "base_uri": "https://localhost:8080/"
        },
        "id": "sgoryGHhIlU7",
        "outputId": "408e939a-2126-46e6-9b86-b3add8710944"
      },
      "outputs": [
        {
          "output_type": "stream",
          "name": "stdout",
          "text": [
            "City: Perth\n",
            "Weather: clear sky\n",
            "Temperature: 17.03 °C\n",
            "City: Perth\n",
            "Weather: clear sky\n",
            "Temperature: 17.03 °C\n"
          ]
        }
      ],
      "source": [
        "import requests\n",
        "\n",
        "API_KEY = \"1da7dea923d784a5dd83bac94cde8d65\"\n",
        "city = \"Perth\"\n",
        "url = f\"https://api.openweathermap.org/data/2.5/weather?q={city}&appid={API_KEY}&units=metric\"\n",
        "\n",
        "response = requests.get(url)\n",
        "data = response.json()\n",
        "\n",
        "# Display main information\n",
        "print(\"City:\", data['name'])\n",
        "print(\"Weather:\", data['weather'][0]['description'])\n",
        "print(\"Temperature:\", data['main']['temp'], \"°C\")\n",
        "data = response.json()\n",
        "\n",
        "# Display main information\n",
        "print(\"City:\", data['name'])\n",
        "print(\"Weather:\", data['weather'][0]['description'])\n",
        "print(\"Temperature:\", data['main']['temp'], \"°C\")\n"
      ]
    }
  ]
}