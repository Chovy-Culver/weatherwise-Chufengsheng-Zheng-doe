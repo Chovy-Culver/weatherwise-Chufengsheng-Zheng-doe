{
  "nbformat": 4,
  "nbformat_minor": 0,
  "metadata": {
    "colab": {
      "provenance": [],
      "toc_visible": true,
      "authorship_tag": "ABX9TyMQcJMKhN5c1uyoRzBVZwfb",
      "include_colab_link": true
    },
    "kernelspec": {
      "name": "python3",
      "display_name": "Python 3"
    },
    "language_info": {
      "name": "python"
    }
  },
  "cells": [
    {
      "cell_type": "markdown",
      "metadata": {
        "id": "view-in-github",
        "colab_type": "text"
      },
      "source": [
        "<a href=\"https://colab.research.google.com/github/Chovy-Culver/weatherwise-Chufengsheng-Zheng-doe/blob/main/WeatherWise.ipynb\" target=\"_parent\"><img src=\"https://colab.research.google.com/assets/colab-badge.svg\" alt=\"Open In Colab\"/></a>"
      ]
    },
    {
      "cell_type": "code",
      "source": [
        "\"\"\"\n",
        "fetch.py - Module for retrieving weather data from OpenWeatherMap API.\n",
        "\"\"\"\n",
        "\n",
        "import requests\n",
        "from config import API_KEY\n",
        "\n",
        "BASE_URL = \"https://api.openweathermap.org/data/2.5/\"\n",
        "\n",
        "def fetch_current_weather(city):\n",
        "    \"\"\"\n",
        "    Fetch current weather data for a given city.\n",
        "    \"\"\"\n",
        "    url = f\"{BASE_URL}weather?q={city}&appid={API_KEY}&units=metric\"\n",
        "    response = requests.get(url)\n",
        "    if response.status_code == 200:\n",
        "        return response.json()\n",
        "    else:\n",
        "        return None\n",
        "\n",
        "def fetch_forecast_weather(city):\n",
        "    \"\"\"\n",
        "    Fetch 5-day forecast data (3-hour intervals) for a given city.\n",
        "    \"\"\"\n",
        "    url = f\"{BASE_URL}forecast?q={city}&appid={API_KEY}&units=metric\"\n",
        "    response = requests.get(url)\n",
        "    if response.status_code == 200:\n",
        "        return response.json()\n",
        "    else:\n",
        "        return None\n"
      ],
      "metadata": {
        "colab": {
          "base_uri": "https://localhost:8080/",
          "height": 387
        },
        "id": "WFTpxLUQ-hBy",
        "outputId": "a482cbe8-5683-496f-d3ca-00c43b16f05c"
      },
      "execution_count": 6,
      "outputs": [
        {
          "output_type": "error",
          "ename": "ModuleNotFoundError",
          "evalue": "No module named 'config'",
          "traceback": [
            "\u001b[0;31m---------------------------------------------------------------------------\u001b[0m",
            "\u001b[0;31mModuleNotFoundError\u001b[0m                       Traceback (most recent call last)",
            "\u001b[0;32m<ipython-input-6-45f16e9ce00f>\u001b[0m in \u001b[0;36m<cell line: 0>\u001b[0;34m()\u001b[0m\n\u001b[1;32m      4\u001b[0m \u001b[0;34m\u001b[0m\u001b[0m\n\u001b[1;32m      5\u001b[0m \u001b[0;32mimport\u001b[0m \u001b[0mrequests\u001b[0m\u001b[0;34m\u001b[0m\u001b[0;34m\u001b[0m\u001b[0m\n\u001b[0;32m----> 6\u001b[0;31m \u001b[0;32mfrom\u001b[0m \u001b[0mconfig\u001b[0m \u001b[0;32mimport\u001b[0m \u001b[0mAPI_KEY\u001b[0m\u001b[0;34m\u001b[0m\u001b[0;34m\u001b[0m\u001b[0m\n\u001b[0m\u001b[1;32m      7\u001b[0m \u001b[0;34m\u001b[0m\u001b[0m\n\u001b[1;32m      8\u001b[0m \u001b[0mBASE_URL\u001b[0m \u001b[0;34m=\u001b[0m \u001b[0;34m\"https://api.openweathermap.org/data/2.5/\"\u001b[0m\u001b[0;34m\u001b[0m\u001b[0;34m\u001b[0m\u001b[0m\n",
            "\u001b[0;31mModuleNotFoundError\u001b[0m: No module named 'config'",
            "",
            "\u001b[0;31m---------------------------------------------------------------------------\u001b[0;32m\nNOTE: If your import is failing due to a missing package, you can\nmanually install dependencies using either !pip or !apt.\n\nTo view examples of installing some common dependencies, click the\n\"Open Examples\" button below.\n\u001b[0;31m---------------------------------------------------------------------------\u001b[0m\n"
          ],
          "errorDetails": {
            "actions": [
              {
                "action": "open_url",
                "actionText": "Open Examples",
                "url": "/notebooks/snippets/importing_libraries.ipynb"
              }
            ]
          }
        }
      ]
    },
    {
      "cell_type": "code",
      "source": [
        "\"\"\"\n",
        "visualise.py - Module for visualising weather forecast data.\n",
        "\"\"\"\n",
        "\n",
        "import matplotlib.pyplot as plt\n",
        "from datetime import datetime\n",
        "\n",
        "def plot_temperature_trend(forecast_data, city):\n",
        "    \"\"\"\n",
        "    Plot temperature trend from forecast data.\n",
        "    \"\"\"\n",
        "    times = []\n",
        "    temps = []\n",
        "\n",
        "    for entry in forecast_data['list']:\n",
        "        dt = datetime.strptime(entry['dt_txt'], \"%Y-%m-%d %H:%M:%S\")\n",
        "        temp = entry['main']['temp']\n",
        "        times.append(dt)\n",
        "        temps.append(temp)\n",
        "\n",
        "    plt.figure(figsize=(10, 5))\n",
        "    plt.plot(times, temps, marker='o')\n",
        "    plt.title(f\"Temperature Trend in {city}\")\n",
        "    plt.xlabel(\"Date & Time\")\n",
        "    plt.ylabel(\"Temperature (°C)\")\n",
        "    plt.xticks(rotation=45)\n",
        "    plt.tight_layout()\n",
        "    plt.grid(True)\n",
        "    plt.show()\n",
        "\n",
        "def plot_precipitation_probability(forecast_data, city):\n",
        "    \"\"\"\n",
        "    Plot precipitation probability from forecast data (if available).\n",
        "    \"\"\"\n",
        "    times = []\n",
        "    pop = []\n",
        "\n",
        "    for entry in forecast_data['list']:\n",
        "        dt = datetime.strptime(entry['dt_txt'], \"%Y-%m-%d %H:%M:%S\")\n",
        "        prob = entry.get('pop', 0) * 100  # pop is probability of precipitation\n",
        "        times.append(dt)\n",
        "        pop.append(prob)\n",
        "\n",
        "    plt.figure(figsize=(10, 5))\n",
        "    plt.bar(times, pop)\n",
        "    plt.title(f\"Precipitation Probability in {city}\")\n",
        "    plt.xlabel(\"Date & Time\")\n",
        "    plt.ylabel(\"Probability (%)\")\n",
        "    plt.xticks(rotation=45)\n",
        "    plt.tight_layout()\n",
        "    plt.grid(True)\n",
        "    plt.show()\n",
        "\n",
        "def plot_wind_speed(forecast_data, city):\n",
        "    \"\"\"\n",
        "    Plot wind speed trend from forecast data.\n",
        "    \"\"\"\n",
        "    times = []\n",
        "    speeds = []\n",
        "\n",
        "    for entry in forecast_data['list']:\n",
        "        dt = datetime.strptime(entry['dt_txt'], \"%Y-%m-%d %H:%M:%S\")\n",
        "        speed = entry['wind']['speed']\n",
        "        times.append(dt)\n",
        "        speeds.append(speed)\n",
        "\n",
        "    plt.figure(figsize=(10, 5))\n",
        "    plt.plot(times, speeds, marker='s', linestyle='--')\n",
        "    plt.title(f\"Wind Speed Forecast in {city}\")\n",
        "    plt.xlabel(\"Date & Time\")\n",
        "    plt.ylabel(\"Wind Speed (m/s)\")\n",
        "    plt.xticks(rotation=45)\n",
        "    plt.tight_layout()\n",
        "    plt.grid(True)\n",
        "    plt.show()\n"
      ],
      "metadata": {
        "id": "t-2o_XRB_MJh"
      },
      "execution_count": 7,
      "outputs": []
    },
    {
      "cell_type": "code",
      "source": [
        "API_KEY = \"1da7dea923d784a5dd83bac94cde8d65\""
      ],
      "metadata": {
        "id": "RJx3jxTe_Pzd"
      },
      "execution_count": 10,
      "outputs": []
    },
    {
      "cell_type": "code",
      "source": [
        "pip install requests matplotlib"
      ],
      "metadata": {
        "colab": {
          "base_uri": "https://localhost:8080/"
        },
        "id": "-0YnzRHn_cXl",
        "outputId": "95316db0-a88a-4888-95a0-2e6cbd23ed69"
      },
      "execution_count": 12,
      "outputs": [
        {
          "output_type": "stream",
          "name": "stdout",
          "text": [
            "Requirement already satisfied: requests in /usr/local/lib/python3.11/dist-packages (2.32.3)\n",
            "Requirement already satisfied: matplotlib in /usr/local/lib/python3.11/dist-packages (3.10.0)\n",
            "Requirement already satisfied: charset-normalizer<4,>=2 in /usr/local/lib/python3.11/dist-packages (from requests) (3.4.2)\n",
            "Requirement already satisfied: idna<4,>=2.5 in /usr/local/lib/python3.11/dist-packages (from requests) (3.10)\n",
            "Requirement already satisfied: urllib3<3,>=1.21.1 in /usr/local/lib/python3.11/dist-packages (from requests) (2.4.0)\n",
            "Requirement already satisfied: certifi>=2017.4.17 in /usr/local/lib/python3.11/dist-packages (from requests) (2025.4.26)\n",
            "Requirement already satisfied: contourpy>=1.0.1 in /usr/local/lib/python3.11/dist-packages (from matplotlib) (1.3.2)\n",
            "Requirement already satisfied: cycler>=0.10 in /usr/local/lib/python3.11/dist-packages (from matplotlib) (0.12.1)\n",
            "Requirement already satisfied: fonttools>=4.22.0 in /usr/local/lib/python3.11/dist-packages (from matplotlib) (4.58.0)\n",
            "Requirement already satisfied: kiwisolver>=1.3.1 in /usr/local/lib/python3.11/dist-packages (from matplotlib) (1.4.8)\n",
            "Requirement already satisfied: numpy>=1.23 in /usr/local/lib/python3.11/dist-packages (from matplotlib) (2.0.2)\n",
            "Requirement already satisfied: packaging>=20.0 in /usr/local/lib/python3.11/dist-packages (from matplotlib) (24.2)\n",
            "Requirement already satisfied: pillow>=8 in /usr/local/lib/python3.11/dist-packages (from matplotlib) (11.2.1)\n",
            "Requirement already satisfied: pyparsing>=2.3.1 in /usr/local/lib/python3.11/dist-packages (from matplotlib) (3.2.3)\n",
            "Requirement already satisfied: python-dateutil>=2.7 in /usr/local/lib/python3.11/dist-packages (from matplotlib) (2.9.0.post0)\n",
            "Requirement already satisfied: six>=1.5 in /usr/local/lib/python3.11/dist-packages (from python-dateutil>=2.7->matplotlib) (1.17.0)\n"
          ]
        }
      ]
    }
  ]
}