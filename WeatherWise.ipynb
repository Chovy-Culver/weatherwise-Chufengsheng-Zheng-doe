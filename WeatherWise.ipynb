{
  "nbformat": 4,
  "nbformat_minor": 0,
  "metadata": {
    "colab": {
      "provenance": [],
      "toc_visible": true,
      "authorship_tag": "ABX9TyP0KkxUSHqhHhlpzrR6DgGj",
      "include_colab_link": true
    },
    "kernelspec": {
      "name": "python3",
      "display_name": "Python 3"
    },
    "language_info": {
      "name": "python"
    }
  },
  "cells": [
    {
      "cell_type": "markdown",
      "metadata": {
        "id": "view-in-github",
        "colab_type": "text"
      },
      "source": [
        "<a href=\"https://colab.research.google.com/github/Chovy-Culver/weatherwise-Chufengsheng-Zheng-doe/blob/main/WeatherWise.ipynb\" target=\"_parent\"><img src=\"https://colab.research.google.com/assets/colab-badge.svg\" alt=\"Open In Colab\"/></a>"
      ]
    },
    {
      "cell_type": "code",
      "source": [
        "# Create a config.py file with the API key\n",
        "with open(\"config.py\", \"w\") as f:\n",
        "    f.write('API_KEY = \"1da7dea923d784a5dd83bac94cde8d65\"')\n"
      ],
      "metadata": {
        "id": "qfC1CpZvDMjm"
      },
      "execution_count": 202,
      "outputs": []
    },
    {
      "cell_type": "code",
      "source": [
        "from config import API_KEY\n",
        "\n",
        "print(\"Your API Key is:\", API_KEY)"
      ],
      "metadata": {
        "colab": {
          "base_uri": "https://localhost:8080/"
        },
        "collapsed": true,
        "id": "unTvKFLCEtaL",
        "outputId": "1a3100b2-307d-4ef4-855a-e7b07446de74"
      },
      "execution_count": 203,
      "outputs": [
        {
          "output_type": "stream",
          "name": "stdout",
          "text": [
            "Your API Key is: 1da7dea923d784a5dd83bac94cde8d65\n"
          ]
        }
      ]
    },
    {
      "cell_type": "code",
      "source": [
        "!mkdir -p weather_data  # create catalog\n",
        "\n",
        "fetch_code = \"\"\"\n",
        "\\\"\"\"fetch.py - Module for retrieving weather data from OpenWeatherMap API.\\\"\"\"\n",
        "\n",
        "import requests\n",
        "from config import API_KEY\n",
        "\n",
        "BASE_URL = \"https://api.openweathermap.org/data/2.5/\"\n",
        "\n",
        "def fetch_current_weather(city):\n",
        "    \\\"\\\"\\\"Fetch current weather data for a given city.\\\"\\\"\\\"\n",
        "    url = f\"{BASE_URL}weather?q={city}&appid={API_KEY}&units=metric\"\n",
        "    response = requests.get(url)\n",
        "    return response.json() if response.status_code == 200 else None\n",
        "\n",
        "def fetch_forecast_weather(city):\n",
        "    \\\"\\\"\\\"Fetch 5-day forecast data (3-hour intervals) for a given city.\\\"\\\"\\\"\n",
        "    url = f\"{BASE_URL}forecast?q={city}&appid={API_KEY}&units=metric\"\n",
        "    response = requests.get(url)\n",
        "    return response.json() if response.status_code == 200 else None\n",
        "\"\"\"\n",
        "\n",
        "with open(\"weather_data/fetch.py\", \"w\") as f:\n",
        "    f.write(fetch_code)\n"
      ],
      "metadata": {
        "id": "WFTpxLUQ-hBy"
      },
      "execution_count": 204,
      "outputs": []
    },
    {
      "cell_type": "code",
      "source": [
        "import sys\n",
        "sys.path.append('/content')\n"
      ],
      "metadata": {
        "id": "t-2o_XRB_MJh"
      },
      "execution_count": 205,
      "outputs": []
    },
    {
      "cell_type": "code",
      "source": [
        "from weather_data.fetch import fetch_current_weather\n",
        "\n",
        "city = \"Perth\"\n",
        "data = fetch_current_weather(city)\n",
        "\n",
        "print(data if data else \"❌ Failed to fetch weather.\")\n"
      ],
      "metadata": {
        "colab": {
          "base_uri": "https://localhost:8080/"
        },
        "id": "oZAxY7g3LssH",
        "outputId": "1d3da4ab-5e4d-4c49-df8a-39166b43ffdf"
      },
      "execution_count": 206,
      "outputs": [
        {
          "output_type": "stream",
          "name": "stdout",
          "text": [
            "{'coord': {'lon': 115.8333, 'lat': -31.9333}, 'weather': [{'id': 500, 'main': 'Rain', 'description': 'light rain', 'icon': '10n'}], 'base': 'stations', 'main': {'temp': 18.28, 'feels_like': 18.23, 'temp_min': 16, 'temp_max': 19.81, 'pressure': 1014, 'humidity': 79, 'sea_level': 1014, 'grnd_level': 1012}, 'visibility': 10000, 'wind': {'speed': 6.17, 'deg': 230}, 'rain': {'1h': 0.15}, 'clouds': {'all': 75}, 'dt': 1747923575, 'sys': {'type': 2, 'id': 63154, 'country': 'AU', 'sunrise': 1747868560, 'sunset': 1747905856}, 'timezone': 28800, 'id': 2063523, 'name': 'Perth', 'cod': 200}\n"
          ]
        }
      ]
    },
    {
      "cell_type": "code",
      "source": [
        "# create file\n",
        "!mkdir -p weather_data\n",
        "\n",
        "# import visualise.py\n",
        "visualise_code = \"\"\"\n",
        "\\\"\\\"\\\"visualise.py - Module for visualising weather forecast data.\\\"\\\"\\\"\n",
        "\n",
        "import matplotlib.pyplot as plt\n",
        "from datetime import datetime\n",
        "\n",
        "def plot_temperature_trend(forecast_data, city):\n",
        "    times = []\n",
        "    temps = []\n",
        "    for entry in forecast_data['list']:\n",
        "        dt = datetime.strptime(entry['dt_txt'], \"%Y-%m-%d %H:%M:%S\")\n",
        "        temp = entry['main']['temp']\n",
        "        times.append(dt)\n",
        "        temps.append(temp)\n",
        "    plt.figure(figsize=(10, 5))\n",
        "    plt.plot(times, temps, marker='o')\n",
        "    plt.title(f\"Temperature Trend in {city}\")\n",
        "    plt.xlabel(\"Date & Time\")\n",
        "    plt.ylabel(\"Temperature (°C)\")\n",
        "    plt.xticks(rotation=45)\n",
        "    plt.tight_layout()\n",
        "    plt.grid(True)\n",
        "    plt.show()\n",
        "\n",
        "def plot_precipitation_probability(forecast_data, city):\n",
        "    times = []\n",
        "    probs = []\n",
        "    for entry in forecast_data['list']:\n",
        "        dt = datetime.strptime(entry['dt_txt'], \"%Y-%m-%d %H:%M:%S\")\n",
        "        prob = entry.get('pop', 0) * 100\n",
        "        times.append(dt)\n",
        "        probs.append(prob)\n",
        "    plt.figure(figsize=(10, 5))\n",
        "    plt.bar(times, probs)\n",
        "    plt.title(f\"Precipitation Probability in {city}\")\n",
        "    plt.xlabel(\"Date & Time\")\n",
        "    plt.ylabel(\"Probability (%)\")\n",
        "    plt.xticks(rotation=45)\n",
        "    plt.tight_layout()\n",
        "    plt.grid(True)\n",
        "    plt.show()\n",
        "\n",
        "def plot_wind_speed(forecast_data, city):\n",
        "    times = []\n",
        "    speeds = []\n",
        "    for entry in forecast_data['list']:\n",
        "        dt = datetime.strptime(entry['dt_txt'], \"%Y-%m-%d %H:%M:%S\")\n",
        "        speed = entry['wind']['speed']\n",
        "        times.append(dt)\n",
        "        speeds.append(speed)\n",
        "    plt.figure(figsize=(10, 5))\n",
        "    plt.plot(times, speeds, marker='s', linestyle='--')\n",
        "    plt.title(f\"Wind Speed Forecast in {city}\")\n",
        "    plt.xlabel(\"Date & Time\")\n",
        "    plt.ylabel(\"Wind Speed (m/s)\")\n",
        "    plt.xticks(rotation=45)\n",
        "    plt.tight_layout()\n",
        "    plt.grid(True)\n",
        "    plt.show()\n",
        "\"\"\"\n",
        "\n",
        "with open(\"weather_data/visualise.py\", \"w\") as f:\n",
        "    f.write(visualise_code)\n"
      ],
      "metadata": {
        "id": "HzaDG3v1I_DX"
      },
      "execution_count": 207,
      "outputs": []
    },
    {
      "cell_type": "code",
      "source": [
        "import sys\n",
        "sys.path.append('/content')\n"
      ],
      "metadata": {
        "id": "x4Cp10NXToJg"
      },
      "execution_count": 208,
      "outputs": []
    },
    {
      "cell_type": "code",
      "source": [
        "from weather_data.visualise import (\n",
        "    plot_temperature_trend,\n",
        "    plot_precipitation_probability,\n",
        "    plot_wind_speed\n",
        ")\n",
        "print(\"✅ visualise module imported successfully.\")\n"
      ],
      "metadata": {
        "colab": {
          "base_uri": "https://localhost:8080/"
        },
        "id": "Scm9J_-yTuLw",
        "outputId": "b6ef8d44-6426-4ebf-c0d2-c0363cb856f4"
      },
      "execution_count": 209,
      "outputs": [
        {
          "output_type": "stream",
          "name": "stdout",
          "text": [
            "✅ visualise module imported successfully.\n"
          ]
        }
      ]
    },
    {
      "cell_type": "code",
      "source": [
        "from weather_data.fetch import fetch_forecast_weather\n",
        "from weather_data.visualise import (\n",
        "    plot_temperature_trend,\n",
        "    plot_precipitation_probability,\n",
        "    plot_wind_speed\n",
        ")\n",
        "\n",
        "city = \"Perth\"\n",
        "forecast = fetch_forecast_weather(city)\n",
        "\n",
        "if forecast:\n",
        "    plot_temperature_trend(forecast, city)\n",
        "    plot_precipitation_probability(forecast, city)\n",
        "    plot_wind_speed(forecast, city)\n",
        "else:\n",
        "    print(\"❌ Failed to fetch forecast data.\")\n"
      ],
      "metadata": {
        "colab": {
          "base_uri": "https://localhost:8080/",
          "height": 1000
        },
        "id": "rorF1jKUTxXO",
        "outputId": "23472f35-8df6-41e7-8e15-aeae24251646"
      },
      "execution_count": 210,
      "outputs": [
        {
          "output_type": "display_data",
          "data": {
            "text/plain": [
              "<Figure size 1000x500 with 1 Axes>"
            ],
            "image/png": "[encoded data removed]"
          },
          "metadata": {}
        },
        {
          "output_type": "display_data",
          "data": {
            "text/plain": [
              "<Figure size 1000x500 with 1 Axes>"
            ],
            "image/png": "[encoded data removed]"
          },
          "metadata": {}
        },
        {
          "output_type": "display_data",
          "data": {
            "text/plain": [
              "<Figure size 1000x500 with 1 Axes>"
            ],
            "image/png": "[encoded data removed]"
          },
          "metadata": {}
        }
      ]
    },
    {
      "cell_type": "code",
      "source": [
        "parser_code = '''\"\"\"\n",
        "parser.py - Smart parser for weather intent and time keyword detection.\n",
        "\"\"\"\n",
        "\n",
        "from difflib import get_close_matches\n",
        "import re\n",
        "\n",
        "INTENT_KEYWORDS = {\n",
        "    \"temperature\": [\"cold\", \"hot\", \"temperature\", \"jacket\", \"coat\", \"sweater\", \"warm\", \"cool\", \"wear\"],\n",
        "    \"rain\": [\"rain\", \"umbrella\", \"wet\", \"drizzle\"],\n",
        "    \"wind\": [\"wind\", \"windy\", \"breeze\", \"gust\"]\n",
        "}\n",
        "\n",
        "TIME_KEYWORDS = {\n",
        "    \"today\": [\"today\", \"now\", \"currently\"],\n",
        "    \"tomorrow\": [\"tomorrow\", \"next day\"],\n",
        "    \"day after tomorrow\": [\"day after tomorrow\"]\n",
        "}\n",
        "\n",
        "KEYWORD_TO_INTENT = {k: intent for intent, lst in INTENT_KEYWORDS.items() for k in lst}\n",
        "KEYWORD_TO_TIME = {k: time for time, lst in TIME_KEYWORDS.items() for k in lst}\n",
        "\n",
        "def infer_weather_intent(user_input):\n",
        "    words = re.findall(r'\\\\w+', user_input.lower())\n",
        "    for word in words:\n",
        "        if word in KEYWORD_TO_INTENT:\n",
        "            return KEYWORD_TO_INTENT[word]\n",
        "        match = get_close_matches(word, KEYWORD_TO_INTENT.keys(), n=1, cutoff=0.8)\n",
        "        if match:\n",
        "            return KEYWORD_TO_INTENT[match[0]]\n",
        "    return None\n",
        "\n",
        "def infer_time_keyword(user_input):\n",
        "    words = re.findall(r'\\\\w+', user_input.lower())\n",
        "    for word in words:\n",
        "        if word in KEYWORD_TO_TIME:\n",
        "            return KEYWORD_TO_TIME[word]\n",
        "        match = get_close_matches(word, KEYWORD_TO_TIME.keys(), n=1, cutoff=0.8)\n",
        "        if match:\n",
        "            return KEYWORD_TO_TIME[match[0]]\n",
        "    return None\n",
        "'''\n",
        "\n",
        "with open(\"/content/nlp_interface/parser.py\", \"w\", encoding=\"utf-8\") as f:\n",
        "    f.write(parser_code)\n",
        "\n",
        "print(\"✅ parser.py has been fully rewritten.\")\n"
      ],
      "metadata": {
        "id": "HgTCcK0c7Bdo",
        "colab": {
          "base_uri": "https://localhost:8080/"
        },
        "outputId": "efcd2c28-6d53-4942-9237-c7ccaa8f2cb1"
      },
      "execution_count": 211,
      "outputs": [
        {
          "output_type": "stream",
          "name": "stdout",
          "text": [
            "✅ parser.py has been fully rewritten.\n"
          ]
        }
      ]
    },
    {
      "cell_type": "code",
      "source": [
        "with open(\"/content/nlp_interface/parser.py\", \"w\") as f:\n",
        "    f.write(parser_code)\n"
      ],
      "metadata": {
        "id": "gBJ3-ADtUv5I"
      },
      "execution_count": 212,
      "outputs": []
    },
    {
      "cell_type": "code",
      "source": [
        "%cat /content/nlp_interface/parser.py\n"
      ],
      "metadata": {
        "colab": {
          "base_uri": "https://localhost:8080/"
        },
        "id": "pLq8i5ClXAic",
        "outputId": "eb740390-26dd-47cb-9eae-5ed16ad309d0"
      },
      "execution_count": 213,
      "outputs": [
        {
          "output_type": "stream",
          "name": "stdout",
          "text": [
            "\"\"\"\n",
            "parser.py - Smart parser for weather intent and time keyword detection.\n",
            "\"\"\"\n",
            "\n",
            "from difflib import get_close_matches\n",
            "import re\n",
            "\n",
            "INTENT_KEYWORDS = {\n",
            "    \"temperature\": [\"cold\", \"hot\", \"temperature\", \"jacket\", \"coat\", \"sweater\", \"warm\", \"cool\", \"wear\"],\n",
            "    \"rain\": [\"rain\", \"umbrella\", \"wet\", \"drizzle\"],\n",
            "    \"wind\": [\"wind\", \"windy\", \"breeze\", \"gust\"]\n",
            "}\n",
            "\n",
            "TIME_KEYWORDS = {\n",
            "    \"today\": [\"today\", \"now\", \"currently\"],\n",
            "    \"tomorrow\": [\"tomorrow\", \"next day\"],\n",
            "    \"day after tomorrow\": [\"day after tomorrow\"]\n",
            "}\n",
            "\n",
            "KEYWORD_TO_INTENT = {k: intent for intent, lst in INTENT_KEYWORDS.items() for k in lst}\n",
            "KEYWORD_TO_TIME = {k: time for time, lst in TIME_KEYWORDS.items() for k in lst}\n",
            "\n",
            "def infer_weather_intent(user_input):\n",
            "    words = re.findall(r'\\w+', user_input.lower())\n",
            "    for word in words:\n",
            "        if word in KEYWORD_TO_INTENT:\n",
            "            return KEYWORD_TO_INTENT[word]\n",
            "        match = get_close_matches(word, KEYWORD_TO_INTENT.keys(), n=1, cutoff=0.8)\n",
            "        if match:\n",
            "            return KEYWORD_TO_INTENT[match[0]]\n",
            "    return None\n",
            "\n",
            "def infer_time_keyword(user_input):\n",
            "    words = re.findall(r'\\w+', user_input.lower())\n",
            "    for word in words:\n",
            "        if word in KEYWORD_TO_TIME:\n",
            "            return KEYWORD_TO_TIME[word]\n",
            "        match = get_close_matches(word, KEYWORD_TO_TIME.keys(), n=1, cutoff=0.8)\n",
            "        if match:\n",
            "            return KEYWORD_TO_TIME[match[0]]\n",
            "    return None\n"
          ]
        }
      ]
    },
    {
      "cell_type": "code",
      "source": [
        "responder_code = '''\"\"\"\n",
        "responder.py - Generate smart weather responses based on intent.\n",
        "\"\"\"\n",
        "\n",
        "def handle_temperature(weather_data):\n",
        "    temp = weather_data['main']['temp']\n",
        "    desc = weather_data['weather'][0]['description']\n",
        "\n",
        "    if temp < 5:\n",
        "        return f\"It’s very cold ({temp}°C, {desc}). You should wear a coat or thick sweater.\"\n",
        "    elif temp < 12:\n",
        "        return f\"It’s chilly ({temp}°C, {desc}). A warm jacket is a good idea.\"\n",
        "    elif temp < 20:\n",
        "        return f\"The weather is mild ({temp}°C, {desc}). You might want a light jacket.\"\n",
        "    else:\n",
        "        return f\"It’s warm today ({temp}°C, {desc}). Light clothing should be fine.\"\n",
        "\n",
        "def handle_rain(weather_data):\n",
        "    desc = weather_data['weather'][0]['description'].lower()\n",
        "    if \"rain\" in desc or \"drizzle\" in desc:\n",
        "        return f\"It looks like rain ({desc}). Don’t forget your umbrella!\"\n",
        "    else:\n",
        "        return f\"No rain expected today. Conditions are {desc}.\"\n",
        "\n",
        "def handle_wind(weather_data):\n",
        "    speed = weather_data['wind']['speed']\n",
        "    if speed > 10:\n",
        "        return f\"It’s quite windy today with wind speeds around {speed} m/s.\"\n",
        "    else:\n",
        "        return f\"Wind is mild today at around {speed} m/s.\"\n",
        "\n",
        "INTENT_HANDLERS = {\n",
        "    \"temperature\": handle_temperature,\n",
        "    \"rain\": handle_rain,\n",
        "    \"wind\": handle_wind\n",
        "}\n",
        "\n",
        "def generate_response(intent, weather_data):\n",
        "    if not weather_data:\n",
        "        return \"Sorry, I couldn't get the weather data right now.\"\n",
        "\n",
        "    handler = INTENT_HANDLERS.get(intent)\n",
        "    if handler:\n",
        "        return handler(weather_data)\n",
        "    else:\n",
        "        return \"I'm not sure what weather info you need. Try asking about temperature, rain, or wind.\"\n",
        "'''\n",
        "\n",
        "with open(\"/content/nlp_interface/responder.py\", \"w\") as f:\n",
        "    f.write(responder_code)\n"
      ],
      "metadata": {
        "id": "XgwuEXNwMolV"
      },
      "execution_count": 214,
      "outputs": []
    },
    {
      "cell_type": "code",
      "source": [
        "responder_code = '''\"\"\"\n",
        "responder.py - Modular response generator with intent-function mapping.\n",
        "\"\"\"\n",
        "\n",
        "def handle_temperature(weather_data):\n",
        "    temp = weather_data['main']['temp']\n",
        "    desc = weather_data['weather'][0]['description']\n",
        "\n",
        "    if temp < 10:\n",
        "        return f\"It's quite cold with {temp}°C and {desc}. You might need a coat.\"\n",
        "    elif temp < 20:\n",
        "        return f\"The temperature is {temp}°C with {desc}. Maybe bring a light jacket.\"\n",
        "    else:\n",
        "        return f\"It's warm today at {temp}°C with {desc}.\"\n",
        "\n",
        "def handle_rain(weather_data):\n",
        "    desc = weather_data['weather'][0]['description'].lower()\n",
        "    if \"rain\" in desc or \"drizzle\" in desc:\n",
        "        return f\"Yes, it looks like rain today: {desc}. Don't forget your umbrella!\"\n",
        "    else:\n",
        "        return f\"No rain expected today. Conditions are {desc}.\"\n",
        "\n",
        "def handle_wind(weather_data):\n",
        "    speed = weather_data['wind']['speed']\n",
        "    if speed > 10:\n",
        "        return f\"It’s quite windy today with wind speeds around {speed} m/s.\"\n",
        "    else:\n",
        "        return f\"Wind is mild today at around {speed} m/s.\"\n",
        "\n",
        "# Intent to handler function mapping\n",
        "INTENT_HANDLERS = {\n",
        "    \"temperature\": handle_temperature,\n",
        "    \"rain\": handle_rain,\n",
        "    \"wind\": handle_wind\n",
        "}\n",
        "\n",
        "def generate_response(intent, weather_data):\n",
        "    \\\"\\\"\\\"\n",
        "    Generate a natural language weather response based on user intent.\n",
        "    \\\"\\\"\\\"\n",
        "    if not weather_data:\n",
        "        return \"Sorry, I couldn't get the weather data right now.\"\n",
        "\n",
        "    handler = INTENT_HANDLERS.get(intent)\n",
        "    if handler:\n",
        "        return handler(weather_data)\n",
        "    else:\n",
        "        return \"I'm not sure what weather info you need. Please ask about temperature, rain, or wind.\"\n",
        "'''\n",
        "\n",
        "with open(\"/content/nlp_interface/responder.py\", \"w\") as f:\n",
        "    f.write(responder_code)\n"
      ],
      "metadata": {
        "id": "NLOAufXm7Eoa"
      },
      "execution_count": 215,
      "outputs": []
    },
    {
      "cell_type": "code",
      "source": [
        "pip install pyinputplus\n"
      ],
      "metadata": {
        "colab": {
          "base_uri": "https://localhost:8080/"
        },
        "id": "nig6--LoOQ5l",
        "outputId": "5c2439d3-9b2a-4c21-9667-2455009c06f6"
      },
      "execution_count": 216,
      "outputs": [
        {
          "output_type": "stream",
          "name": "stdout",
          "text": [
            "Requirement already satisfied: pyinputplus in /usr/local/lib/python3.11/dist-packages (0.2.12)\n",
            "Requirement already satisfied: pysimplevalidate>=0.2.7 in /usr/local/lib/python3.11/dist-packages (from pyinputplus) (0.2.12)\n",
            "Requirement already satisfied: stdiomask>=0.0.3 in /usr/local/lib/python3.11/dist-packages (from pyinputplus) (0.0.6)\n"
          ]
        }
      ]
    },
    {
      "cell_type": "code",
      "source": [
        "import os\n",
        "\n",
        "# Make sure the ui/ directory exists\n",
        "os.makedirs(\"/content/ui\", exist_ok=True)\n",
        "\n",
        "# Now write the clean English version of menu.py\n",
        "menu_code = '''\"\"\"\n",
        "menu.py - Interactive weather application menu using pyinputplus.\n",
        "\"\"\"\n",
        "\n",
        "import pyinputplus as pyip\n",
        "from weather_data.fetch import fetch_current_weather, fetch_forecast_weather\n",
        "from weather_data.visualise import (\n",
        "    plot_temperature_trend,\n",
        "    plot_precipitation_probability,\n",
        "    plot_wind_speed\n",
        ")\n",
        "from nlp_interface.parser import infer_weather_intent\n",
        "from nlp_interface.responder import generate_response\n",
        "from ui.display import show_weather_info, show_error\n",
        "\n",
        "def handle_check_weather():\n",
        "    city = pyip.inputStr(\"Enter a city name: \")\n",
        "    data = fetch_current_weather(city)\n",
        "    if data:\n",
        "        show_weather_info(data)\n",
        "    else:\n",
        "        show_error(\"Could not retrieve current weather data.\")\n",
        "\n",
        "def handle_show_charts():\n",
        "    city = pyip.inputStr(\"Enter a city name: \")\n",
        "    forecast = fetch_forecast_weather(city)\n",
        "    if not forecast:\n",
        "        show_error(\"Could not retrieve forecast data.\")\n",
        "        return\n",
        "\n",
        "    chart_actions = {\n",
        "        \"Temperature Trend\": plot_temperature_trend,\n",
        "        \"Precipitation Probability\": plot_precipitation_probability,\n",
        "        \"Wind Speed\": plot_wind_speed\n",
        "    }\n",
        "\n",
        "    chart_choice = pyip.inputMenu(list(chart_actions.keys()), numbered=True)\n",
        "    chart_actions[chart_choice](forecast, city)\n",
        "\n",
        "def handle_ask_question():\n",
        "    city = pyip.inputStr(\"Enter a city name: \")\n",
        "    question = pyip.inputStr(\"Ask your weather-related question (e.g., 'Will it rain tomorrow?'): \")\n",
        "    intent = infer_weather_intent(question)\n",
        "    weather = fetch_current_weather(city)\n",
        "    response = generate_response(intent, weather)\n",
        "    print(\"\\\\n🤖\", response)\n",
        "\n",
        "def handle_exit():\n",
        "    print(\"Thank you for using WeatherWise. Goodbye!\")\n",
        "    exit()\n",
        "\n",
        "MENU_ACTIONS = {\n",
        "    \"Check Current Weather\": handle_check_weather,\n",
        "    \"Show Forecast Charts\": handle_show_charts,\n",
        "    \"Ask a Weather Question\": handle_ask_question,\n",
        "    \"Exit\": handle_exit\n",
        "}\n",
        "\n",
        "def weather_menu():\n",
        "    while True:\n",
        "        print(\"\\\\n=== WeatherWise Main Menu ===\")\n",
        "        choice = pyip.inputMenu(list(MENU_ACTIONS.keys()), numbered=True)\n",
        "        action = MENU_ACTIONS.get(choice)\n",
        "        if action:\n",
        "            action()\n",
        "'''\n",
        "\n",
        "with open(\"/content/ui/menu.py\", \"w\") as f:\n",
        "    f.write(menu_code)\n",
        "\n",
        "print(\"✅ Rewritten ui/menu.py successfully saved to /content/ui/\")\n"
      ],
      "metadata": {
        "id": "HqMXBoyoXzhi",
        "colab": {
          "base_uri": "https://localhost:8080/"
        },
        "outputId": "3bbf4a4b-b0b2-4ffb-dde5-28a62b164037"
      },
      "execution_count": 217,
      "outputs": [
        {
          "output_type": "stream",
          "name": "stdout",
          "text": [
            "✅ Rewritten ui/menu.py successfully saved to /content/ui/\n"
          ]
        }
      ]
    },
    {
      "cell_type": "code",
      "source": [
        "os.makedirs(\"/content/ui\", exist_ok=True)\n",
        "\n",
        "display_code = '''\"\"\"\n",
        "display.py - Simple display helpers for WeatherWise.\n",
        "\"\"\"\n",
        "\n",
        "def show_weather_info(data):\n",
        "    print(f\"🌤️ Weather in {data['name']}: {data['main']['temp']}°C, {data['weather'][0]['description']}\")\n",
        "\n",
        "def show_error(message):\n",
        "    print(f\"❌ {message}\")\n",
        "'''\n",
        "\n",
        "with open(\"/content/ui/display.py\", \"w\") as f:\n",
        "    f.write(display_code)\n"
      ],
      "metadata": {
        "id": "ZdxnU4xGcL8l"
      },
      "execution_count": 218,
      "outputs": []
    },
    {
      "cell_type": "code",
      "source": [
        "import sys\n",
        "sys.path.append('/content')\n"
      ],
      "metadata": {
        "id": "r9xEDzIy7Obo"
      },
      "execution_count": 219,
      "outputs": []
    },
    {
      "cell_type": "code",
      "source": [
        "import os\n",
        "os.makedirs(\"/content/ui\", exist_ok=True)\n",
        "\n",
        "smart_code = \"\"\"<PASTE FULL FUNCTION CODE ABOVE HERE>\"\"\"  # Replace with full code\n",
        "\n",
        "with open(\"/content/ui/smart_conversation.py\", \"w\") as f:\n",
        "    f.write(smart_code)\n",
        "\n",
        "print(\"✅ smart_conversation.py has been saved.\")\n"
      ],
      "metadata": {
        "id": "2CtB5wvj_w6P",
        "colab": {
          "base_uri": "https://localhost:8080/"
        },
        "outputId": "65c21e19-1f72-46cb-ef7a-d8a19e772d99"
      },
      "execution_count": 220,
      "outputs": [
        {
          "output_type": "stream",
          "name": "stdout",
          "text": [
            "✅ smart_conversation.py has been saved.\n"
          ]
        }
      ]
    },
    {
      "cell_type": "code",
      "source": [
        "parser_fixed_code = \"\"\"<PASTE FULL UPDATED CODE ABOVE HERE>\"\"\"\n",
        "\n",
        "with open(\"/content/nlp_interface/parser.py\", \"w\") as f:\n",
        "    f.write(parser_fixed_code)\n",
        "\n",
        "print(\"✅ Fixed parser.py saved with infer_time_keyword.\")\n"
      ],
      "metadata": {
        "id": "QWnjPYXrAO0c",
        "colab": {
          "base_uri": "https://localhost:8080/"
        },
        "outputId": "273a4513-13fa-4890-ca1f-ff4cbde4f281"
      },
      "execution_count": 221,
      "outputs": [
        {
          "output_type": "stream",
          "name": "stdout",
          "text": [
            "✅ Fixed parser.py saved with infer_time_keyword.\n"
          ]
        }
      ]
    },
    {
      "cell_type": "code",
      "source": [
        "import os\n",
        "parser_path = \"/content/nlp_interface/parser.py\"\n",
        "if os.path.exists(parser_path):\n",
        "    os.remove(parser_path)\n",
        "    print(\"🧹 parser.py delete\")\n"
      ],
      "metadata": {
        "colab": {
          "base_uri": "https://localhost:8080/"
        },
        "id": "zZLdyrvaX-ZB",
        "outputId": "46927723-8a5b-4387-fb01-2c4bc3ff9510"
      },
      "execution_count": 222,
      "outputs": [
        {
          "output_type": "stream",
          "name": "stdout",
          "text": [
            "🧹 parser.py delete\n"
          ]
        }
      ]
    },
    {
      "cell_type": "code",
      "source": [
        "parser_code = '''\"\"\"\n",
        "parser.py - Smart parser for weather intent and time keyword detection.\n",
        "\"\"\"\n",
        "\n",
        "from difflib import get_close_matches\n",
        "import re\n",
        "\n",
        "INTENT_KEYWORDS = {\n",
        "    \"temperature\": [\"cold\", \"hot\", \"temperature\", \"jacket\", \"coat\", \"sweater\", \"warm\", \"cool\", \"wear\"],\n",
        "    \"rain\": [\"rain\", \"umbrella\", \"wet\", \"drizzle\"],\n",
        "    \"wind\": [\"wind\", \"windy\", \"breeze\", \"gust\"]\n",
        "}\n",
        "\n",
        "TIME_KEYWORDS = {\n",
        "    \"today\": [\"today\", \"now\", \"currently\"],\n",
        "    \"tomorrow\": [\"tomorrow\", \"next day\"],\n",
        "    \"day after tomorrow\": [\"day after tomorrow\"]\n",
        "}\n",
        "\n",
        "KEYWORD_TO_INTENT = {k: intent for intent, lst in INTENT_KEYWORDS.items() for k in lst}\n",
        "KEYWORD_TO_TIME = {k: time for time, lst in TIME_KEYWORDS.items() for k in lst}\n",
        "\n",
        "def infer_weather_intent(user_input):\n",
        "    words = re.findall(r'\\\\w+', user_input.lower())\n",
        "    for word in words:\n",
        "        if word in KEYWORD_TO_INTENT:\n",
        "            return KEYWORD_TO_INTENT[word]\n",
        "        match = get_close_matches(word, KEYWORD_TO_INTENT.keys(), n=1, cutoff=0.8)\n",
        "        if match:\n",
        "            return KEYWORD_TO_INTENT[match[0]]\n",
        "    return None\n",
        "\n",
        "def infer_time_keyword(user_input):\n",
        "    words = re.findall(r'\\\\w+', user_input.lower())\n",
        "    for word in words:\n",
        "        if word in KEYWORD_TO_TIME:\n",
        "            return KEYWORD_TO_TIME[word]\n",
        "        match = get_close_matches(word, KEYWORD_TO_TIME.keys(), n=1, cutoff=0.8)\n",
        "        if match:\n",
        "            return KEYWORD_TO_TIME[match[0]]\n",
        "    return None\n",
        "'''\n",
        "\n",
        "with open(\"/content/nlp_interface/parser.py\", \"w\", encoding=\"utf-8\") as f:\n",
        "    f.write(parser_code)\n",
        "\n",
        "print(\"✅ parser.py 已修复并写入完成\")\n"
      ],
      "metadata": {
        "colab": {
          "base_uri": "https://localhost:8080/"
        },
        "id": "Ye1E9XNjYB7f",
        "outputId": "02672124-7606-4aed-b389-62d2affb78ab"
      },
      "execution_count": 223,
      "outputs": [
        {
          "output_type": "stream",
          "name": "stdout",
          "text": [
            "✅ parser.py 已修复并写入完成\n"
          ]
        }
      ]
    },
    {
      "cell_type": "code",
      "source": [
        "import os\n",
        "\n",
        "os.makedirs(\"/content/ui\", exist_ok=True)\n",
        "\n",
        "menu_code = '''\"\"\"\n",
        "menu.py - Interactive weather application menu using pyinputplus.\n",
        "\"\"\"\n",
        "\n",
        "import pyinputplus as pyip\n",
        "from weather_data.fetch import fetch_current_weather, fetch_forecast_weather\n",
        "from weather_data.visualise import (\n",
        "    plot_temperature_trend,\n",
        "    plot_precipitation_probability,\n",
        "    plot_wind_speed\n",
        ")\n",
        "from nlp_interface.parser import infer_weather_intent\n",
        "from nlp_interface.responder import generate_response\n",
        "from ui.display import show_weather_info, show_error\n",
        "\n",
        "def handle_check_weather():\n",
        "    city = pyip.inputStr(\"Enter a city name: \")\n",
        "    data = fetch_current_weather(city)\n",
        "    if data:\n",
        "        show_weather_info(data)\n",
        "    else:\n",
        "        show_error(\"Could not retrieve current weather data.\")\n",
        "\n",
        "def handle_show_charts():\n",
        "    city = pyip.inputStr(\"Enter a city name: \")\n",
        "    forecast = fetch_forecast_weather(city)\n",
        "    if not forecast:\n",
        "        show_error(\"Could not retrieve forecast data.\")\n",
        "        return\n",
        "\n",
        "    chart_actions = {\n",
        "        \"Temperature Trend\": plot_temperature_trend,\n",
        "        \"Precipitation Probability\": plot_precipitation_probability,\n",
        "        \"Wind Speed\": plot_wind_speed\n",
        "    }\n",
        "\n",
        "    chart_choice = pyip.inputMenu(list(chart_actions.keys()), numbered=True)\n",
        "    chart_actions[chart_choice](forecast, city)\n",
        "\n",
        "def handle_ask_question():\n",
        "    city = pyip.inputStr(\"Enter a city name: \")\n",
        "    question = pyip.inputStr(\"Ask your weather-related question (e.g., 'Will it rain tomorrow?'): \")\n",
        "    intent = infer_weather_intent(question)\n",
        "    weather = fetch_current_weather(city)\n",
        "    response = generate_response(intent, weather)\n",
        "    print(\"\\\\n🤖\", response)\n",
        "\n",
        "def handle_exit():\n",
        "    print(\"Thank you for using WeatherWise. Goodbye!\")\n",
        "    exit()\n",
        "\n",
        "MENU_ACTIONS = {\n",
        "    \"Check Current Weather\": handle_check_weather,\n",
        "    \"Show Forecast Charts\": handle_show_charts,\n",
        "    \"Ask a Weather Question\": handle_ask_question,\n",
        "    \"Exit\": handle_exit\n",
        "}\n",
        "\n",
        "def weather_menu():\n",
        "    while True:\n",
        "        print(\"\\\\n=== WeatherWise Main Menu ===\")\n",
        "        choice = pyip.inputMenu(list(MENU_ACTIONS.keys()), numbered=True)\n",
        "        action = MENU_ACTIONS.get(choice)\n",
        "        if action:\n",
        "            action()\n",
        "'''\n",
        "\n",
        "with open(\"/content/ui/menu.py\", \"w\") as f:\n",
        "    f.write(menu_code)\n",
        "\n",
        "print(\"✅ menu.py successfully rewritten to /content/ui/\")\n"
      ],
      "metadata": {
        "id": "xny-MsQf7m9N",
        "colab": {
          "base_uri": "https://localhost:8080/"
        },
        "outputId": "40d8447f-bd7b-4062-c029-43e5323dc941"
      },
      "execution_count": 224,
      "outputs": [
        {
          "output_type": "stream",
          "name": "stdout",
          "text": [
            "✅ menu.py successfully rewritten to /content/ui/\n"
          ]
        }
      ]
    },
    {
      "cell_type": "code",
      "source": [
        "from ui.menu import weather_menu\n",
        "weather_menu()\n"
      ],
      "metadata": {
        "id": "SfRpSnwB7sPA",
        "colab": {
          "base_uri": "https://localhost:8080/"
        },
        "outputId": "bca162c0-36bd-44ab-ab6d-8421f66a61ae"
      },
      "execution_count": null,
      "outputs": [
        {
          "output_type": "stream",
          "name": "stdout",
          "text": [
            "\n",
            "=== WeatherWise Main Menu ===\n",
            "Please select one of the following:\n",
            "1. Check Current Weather\n",
            "2. Show Forecast Charts\n",
            "3. Ask a Weather Question\n",
            "4. Exit\n"
          ]
        }
      ]
    }
  ]
}