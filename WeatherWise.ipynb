{
  "nbformat": 4,
  "nbformat_minor": 0,
  "metadata": {
    "colab": {
      "provenance": [],
      "toc_visible": true,
      "authorship_tag": "ABX9TyOugr9GJKttsDhSchfcIKCB",
      "include_colab_link": true
    },
    "kernelspec": {
      "name": "python3",
      "display_name": "Python 3"
    },
    "language_info": {
      "name": "python"
    }
  },
  "cells": [
    {
      "cell_type": "markdown",
      "metadata": {
        "id": "view-in-github",
        "colab_type": "text"
      },
      "source": [
        "<a href=\"https://colab.research.google.com/github/Chovy-Culver/weatherwise-Chufengsheng-Zheng-doe/blob/main/WeatherWise.ipynb\" target=\"_parent\"><img src=\"https://colab.research.google.com/assets/colab-badge.svg\" alt=\"Open In Colab\"/></a>"
      ]
    },
    {
      "cell_type": "code",
      "source": [
        "!mkdir -p weather_data\n",
        "!touch weather_data/__init__.py\n"
      ],
      "metadata": {
        "id": "ejJ7hzOtKaxN"
      },
      "execution_count": 35,
      "outputs": []
    },
    {
      "cell_type": "code",
      "source": [
        "# Create a config.py file with the API key\n",
        "with open(\"config.py\", \"w\") as f:\n",
        "    f.write('API_KEY = \"1da7dea923d784a5dd83bac94cde8d65\"')\n"
      ],
      "metadata": {
        "id": "qfC1CpZvDMjm"
      },
      "execution_count": 36,
      "outputs": []
    },
    {
      "cell_type": "code",
      "source": [
        "from config import API_KEY\n",
        "\n",
        "print(\"Your API Key is:\", API_KEY)"
      ],
      "metadata": {
        "colab": {
          "base_uri": "https://localhost:8080/"
        },
        "id": "unTvKFLCEtaL",
        "outputId": "8d7bb4b2-bad5-40fc-eb34-d9a3afb2c7f4"
      },
      "execution_count": 37,
      "outputs": [
        {
          "output_type": "stream",
          "name": "stdout",
          "text": [
            "Your API Key is: 1da7dea923d784a5dd83bac94cde8d65\n"
          ]
        }
      ]
    },
    {
      "cell_type": "code",
      "source": [
        "%%writefile weather_data/fetch.py\n",
        "\"\"\"\n",
        "fetch.py - Module for retrieving weather data from OpenWeatherMap API.\n",
        "\"\"\"\n",
        "\n",
        "import requests\n",
        "from config import API_KEY\n",
        "\n",
        "BASE_URL = \"https://api.openweathermap.org/data/2.5/\"\n",
        "\n",
        "def fetch_current_weather(city):\n",
        "    \"\"\"\n",
        "    Fetch current weather data for a given city.\n",
        "    \"\"\"\n",
        "    url = f\"{BASE_URL}weather?q={city}&appid={API_KEY}&units=metric\"\n",
        "    response = requests.get(url)\n",
        "    if response.status_code == 200:\n",
        "        return response.json()\n",
        "    else:\n",
        "        return None\n",
        "\n",
        "def fetch_forecast_weather(city):\n",
        "    \"\"\"\n",
        "    Fetch 5-day forecast data (3-hour intervals) for a given city.\n",
        "    \"\"\"\n",
        "    url = f\"{BASE_URL}forecast?q={city}&appid={API_KEY}&units=metric\"\n",
        "    response = requests.get(url)\n",
        "    if response.status_code == 200:\n",
        "        return response.json()\n",
        "    else:\n",
        "        return None\n"
      ],
      "metadata": {
        "colab": {
          "base_uri": "https://localhost:8080/"
        },
        "id": "WFTpxLUQ-hBy",
        "outputId": "1316ab67-d3fe-41c3-8e2c-a8b7c272f1fa"
      },
      "execution_count": 38,
      "outputs": [
        {
          "output_type": "stream",
          "name": "stdout",
          "text": [
            "Overwriting weather_data/fetch.py\n"
          ]
        }
      ]
    },
    {
      "cell_type": "code",
      "source": [
        "\"\"\"\n",
        "visualise.py - Module for visualising weather forecast data.\n",
        "\"\"\"\n",
        "\n",
        "import matplotlib.pyplot as plt\n",
        "from datetime import datetime\n",
        "\n",
        "def plot_temperature_trend(forecast_data, city):\n",
        "    \"\"\"\n",
        "    Plot temperature trend from forecast data.\n",
        "    \"\"\"\n",
        "    times = []\n",
        "    temps = []\n",
        "\n",
        "    for entry in forecast_data['list']:\n",
        "        dt = datetime.strptime(entry['dt_txt'], \"%Y-%m-%d %H:%M:%S\")\n",
        "        temp = entry['main']['temp']\n",
        "        times.append(dt)\n",
        "        temps.append(temp)\n",
        "\n",
        "    plt.figure(figsize=(10, 5))\n",
        "    plt.plot(times, temps, marker='o')\n",
        "    plt.title(f\"Temperature Trend in {city}\")\n",
        "    plt.xlabel(\"Date & Time\")\n",
        "    plt.ylabel(\"Temperature (°C)\")\n",
        "    plt.xticks(rotation=45)\n",
        "    plt.tight_layout()\n",
        "    plt.grid(True)\n",
        "    plt.show()\n",
        "\n",
        "def plot_precipitation_probability(forecast_data, city):\n",
        "    \"\"\"\n",
        "    Plot precipitation probability from forecast data (if available).\n",
        "    \"\"\"\n",
        "    times = []\n",
        "    pop = []\n",
        "\n",
        "    for entry in forecast_data['list']:\n",
        "        dt = datetime.strptime(entry['dt_txt'], \"%Y-%m-%d %H:%M:%S\")\n",
        "        prob = entry.get('pop', 0) * 100  # pop is probability of precipitation\n",
        "        times.append(dt)\n",
        "        pop.append(prob)\n",
        "\n",
        "    plt.figure(figsize=(10, 5))\n",
        "    plt.bar(times, pop)\n",
        "    plt.title(f\"Precipitation Probability in {city}\")\n",
        "    plt.xlabel(\"Date & Time\")\n",
        "    plt.ylabel(\"Probability (%)\")\n",
        "    plt.xticks(rotation=45)\n",
        "    plt.tight_layout()\n",
        "    plt.grid(True)\n",
        "    plt.show()\n",
        "\n",
        "def plot_wind_speed(forecast_data, city):\n",
        "    \"\"\"\n",
        "    Plot wind speed trend from forecast data.\n",
        "    \"\"\"\n",
        "    times = []\n",
        "    speeds = []\n",
        "\n",
        "    for entry in forecast_data['list']:\n",
        "        dt = datetime.strptime(entry['dt_txt'], \"%Y-%m-%d %H:%M:%S\")\n",
        "        speed = entry['wind']['speed']\n",
        "        times.append(dt)\n",
        "        speeds.append(speed)\n",
        "\n",
        "    plt.figure(figsize=(10, 5))\n",
        "    plt.plot(times, speeds, marker='s', linestyle='--')\n",
        "    plt.title(f\"Wind Speed Forecast in {city}\")\n",
        "    plt.xlabel(\"Date & Time\")\n",
        "    plt.ylabel(\"Wind Speed (m/s)\")\n",
        "    plt.xticks(rotation=45)\n",
        "    plt.tight_layout()\n",
        "    plt.grid(True)\n",
        "    plt.show()\n"
      ],
      "metadata": {
        "id": "t-2o_XRB_MJh"
      },
      "execution_count": 39,
      "outputs": []
    },
    {
      "cell_type": "code",
      "source": [
        "pip install requests matplotlib"
      ],
      "metadata": {
        "colab": {
          "base_uri": "https://localhost:8080/"
        },
        "collapsed": true,
        "id": "-0YnzRHn_cXl",
        "outputId": "da68a084-6792-4ebe-9831-136605ea6a3b"
      },
      "execution_count": 40,
      "outputs": [
        {
          "output_type": "stream",
          "name": "stdout",
          "text": [
            "Requirement already satisfied: requests in /usr/local/lib/python3.11/dist-packages (2.32.3)\n",
            "Requirement already satisfied: matplotlib in /usr/local/lib/python3.11/dist-packages (3.10.0)\n",
            "Requirement already satisfied: charset-normalizer<4,>=2 in /usr/local/lib/python3.11/dist-packages (from requests) (3.4.2)\n",
            "Requirement already satisfied: idna<4,>=2.5 in /usr/local/lib/python3.11/dist-packages (from requests) (3.10)\n",
            "Requirement already satisfied: urllib3<3,>=1.21.1 in /usr/local/lib/python3.11/dist-packages (from requests) (2.4.0)\n",
            "Requirement already satisfied: certifi>=2017.4.17 in /usr/local/lib/python3.11/dist-packages (from requests) (2025.4.26)\n",
            "Requirement already satisfied: contourpy>=1.0.1 in /usr/local/lib/python3.11/dist-packages (from matplotlib) (1.3.2)\n",
            "Requirement already satisfied: cycler>=0.10 in /usr/local/lib/python3.11/dist-packages (from matplotlib) (0.12.1)\n",
            "Requirement already satisfied: fonttools>=4.22.0 in /usr/local/lib/python3.11/dist-packages (from matplotlib) (4.58.0)\n",
            "Requirement already satisfied: kiwisolver>=1.3.1 in /usr/local/lib/python3.11/dist-packages (from matplotlib) (1.4.8)\n",
            "Requirement already satisfied: numpy>=1.23 in /usr/local/lib/python3.11/dist-packages (from matplotlib) (2.0.2)\n",
            "Requirement already satisfied: packaging>=20.0 in /usr/local/lib/python3.11/dist-packages (from matplotlib) (24.2)\n",
            "Requirement already satisfied: pillow>=8 in /usr/local/lib/python3.11/dist-packages (from matplotlib) (11.2.1)\n",
            "Requirement already satisfied: pyparsing>=2.3.1 in /usr/local/lib/python3.11/dist-packages (from matplotlib) (3.2.3)\n",
            "Requirement already satisfied: python-dateutil>=2.7 in /usr/local/lib/python3.11/dist-packages (from matplotlib) (2.9.0.post0)\n",
            "Requirement already satisfied: six>=1.5 in /usr/local/lib/python3.11/dist-packages (from python-dateutil>=2.7->matplotlib) (1.17.0)\n"
          ]
        }
      ]
    },
    {
      "cell_type": "code",
      "source": [
        "\"\"\"\n",
        "test_fetch.py - Simple test script for fetch_current_weather and fetch_forecast_weather.\n",
        "\"\"\"\n",
        "\n",
        "from weather_data.fetch import fetch_current_weather, fetch_forecast_weather\n",
        "\n",
        "def test_fetch_weather():\n",
        "    city = \"Perth\"\n",
        "\n",
        "    print(\"🔍 Testing current weather data...\")\n",
        "    current = fetch_current_weather(city)\n",
        "    if current:\n",
        "        print(\"✅ Current weather fetched successfully!\")\n",
        "        print(f\"City: {current['name']}\")\n",
        "        print(f\"Condition: {current['weather'][0]['description']}\")\n",
        "        print(f\"Temperature: {current['main']['temp']}°C\")\n",
        "    else:\n",
        "        print(\"❌ Failed to fetch current weather.\")\n",
        "\n",
        "    print(\"\\n🔍 Testing forecast weather data...\")\n",
        "    forecast = fetch_forecast_weather(city)\n",
        "    if forecast:\n",
        "        print(\"✅ Forecast data fetched successfully!\")\n",
        "        print(f\"Total data points: {len(forecast['list'])}\")\n",
        "        print(f\"First timestamp: {forecast['list'][0]['dt_txt']}\")\n",
        "        print(f\"Predicted temperature: {forecast['list'][0]['main']['temp']}°C\")\n",
        "    else:\n",
        "        print(\"❌ Failed to fetch forecast weather.\")\n",
        "\n",
        "if __name__ == \"__main__\":\n",
        "    test_fetch_weather()\n"
      ],
      "metadata": {
        "colab": {
          "base_uri": "https://localhost:8080/"
        },
        "id": "HzaDG3v1I_DX",
        "outputId": "49c0b5a7-25e6-445e-a5d9-ad7fdbf3c26d"
      },
      "execution_count": 41,
      "outputs": [
        {
          "output_type": "stream",
          "name": "stdout",
          "text": [
            "🔍 Testing current weather data...\n",
            "✅ Current weather fetched successfully!\n",
            "City: Perth\n",
            "Condition: few clouds\n",
            "Temperature: 17.65°C\n",
            "\n",
            "🔍 Testing forecast weather data...\n",
            "✅ Forecast data fetched successfully!\n",
            "Total data points: 40\n",
            "First timestamp: 2025-05-19 03:00:00\n",
            "Predicted temperature: 17.65°C\n"
          ]
        }
      ]
    }
  ]
}